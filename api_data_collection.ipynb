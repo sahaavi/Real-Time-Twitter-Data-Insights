{
 "cells": [
  {
   "cell_type": "code",
   "execution_count": 7,
   "metadata": {},
   "outputs": [],
   "source": [
    "# importing all dependencies\n",
    "import tweepy\n",
    "import requests\n",
    "import base64\n",
    "import secrets\n",
    "\n",
    "# Define your keys from the developer portal\n",
    "access_key = secrets.Access_Token\n",
    "access_secret = secrets.Access_Token_Secret\n",
    "consumer_key = secrets.API_Key\n",
    "consumer_secret = secrets.API_Key_Secret\n",
    "bearer_token = secrets.Bearer_Token"
   ]
  },
  {
   "cell_type": "code",
   "execution_count": null,
   "metadata": {},
   "outputs": [],
   "source": [
    "\n",
    "\n",
    "#Put your Bearer Token in the parenthesis below\n",
    "client = tweepy.Client(bearer_token=bearer_token, consumer_key = consumer_key, consumer_secret = consumer_secret, access_token = access_key, access_token_secret = access_secret)\n",
    "\n",
    "\"\"\"\n",
    "If you don't understand search queries, there is an excellent introduction to it here: \n",
    "https://github.com/twitterdev/getting-started-with-the-twitter-api-v2-for-academic-research/blob/main/modules/5-how-to-write-search-queries.md\n",
    "\"\"\"\n",
    "\n",
    "# Get tweets that contain the hashtag #petday\n",
    "# -is:retweet means I don't want retweets\n",
    "# lang:en is asking for the tweets to be in english\n",
    "query = '#Threads -is:retweet lang:en'\n",
    "tweets = client.search_recent_tweets(query=query, max_results=100)\n",
    "\n",
    "\"\"\"\n",
    "What context_annotations are: \n",
    "https://developer.twitter.com/en/docs/twitter-api/annotations/overview\n",
    "\"\"\"\n",
    "for tweet in tweets.data:\n",
    "    print(tweet.text)\n",
    "    if len(tweet.context_annotations) > 0:\n",
    "        print(tweet.context_annotations)"
   ]
  },
  {
   "cell_type": "code",
   "execution_count": 23,
   "metadata": {},
   "outputs": [],
   "source": [
    "#Reformat the keys and encode them\n",
    "key_secret = '{}:{}'.format(consumer_key, consumer_secret).encode('ascii')\n",
    "#Transform from bytes to bytes that can be printed\n",
    "b64_encoded_key = base64.b64encode(key_secret)\n",
    "#Transform from bytes back into Unicode\n",
    "b64_encoded_key = b64_encoded_key.decode('ascii')"
   ]
  },
  {
   "cell_type": "code",
   "execution_count": 26,
   "metadata": {},
   "outputs": [
    {
     "name": "stdout",
     "output_type": "stream",
     "text": [
      "200\n"
     ]
    }
   ],
   "source": [
    "base_url = 'https://api.twitter.com/'\n",
    "auth_url = '{}oauth2/token'.format(base_url)\n",
    "auth_headers = {\n",
    "    'Authorization': 'Basic {}'.format(b64_encoded_key),\n",
    "    'Content-Type': 'application/x-www-form-urlencoded;charset=UTF-8'\n",
    "}\n",
    "auth_data = {\n",
    "    'grant_type': 'client_credentials'\n",
    "}\n",
    "auth_resp = requests.post(auth_url, headers=auth_headers, data=auth_data)\n",
    "print(auth_resp.status_code)\n",
    "access_token = auth_resp.json()['access_token']\n"
   ]
  },
  {
   "cell_type": "code",
   "execution_count": 27,
   "metadata": {},
   "outputs": [],
   "source": [
    "trend_headers = {\n",
    "    'Authorization': 'Bearer {}'.format(access_token)    \n",
    "}\n",
    "\n",
    "trend_params = {\n",
    "    'id': 23424775, # WOEID for Canada\n",
    "}\n",
    "\n",
    "trend_url = 'https://api.twitter.com/1.1/trends/place.json'  \n",
    "trend_resp = requests.get(trend_url, headers=trend_headers, params=trend_params)"
   ]
  },
  {
   "cell_type": "code",
   "execution_count": 28,
   "metadata": {},
   "outputs": [
    {
     "name": "stdout",
     "output_type": "stream",
     "text": [
      "{'errors': [{'message': 'You currently have access to a subset of Twitter API v2 endpoints and limited v1.1 endpoints (e.g. media post, oauth) only. If you need access to this endpoint, you may need a different access level. You can learn more here: https://developer.twitter.com/en/portal/product', 'code': 453}]}\n"
     ]
    }
   ],
   "source": [
    "tweet_data = trend_resp.json()\n",
    "print(tweet_data)"
   ]
  },
  {
   "cell_type": "code",
   "execution_count": 30,
   "metadata": {},
   "outputs": [],
   "source": [
    "# Twitter authentication\n",
    "auth = tweepy.OAuthHandler(consumer_key, consumer_secret) \n",
    "auth.set_access_token(access_key, access_secret)"
   ]
  },
  {
   "cell_type": "code",
   "execution_count": 13,
   "metadata": {},
   "outputs": [],
   "source": [
    "# Create API object\n",
    "api = tweepy.API(auth)"
   ]
  },
  {
   "cell_type": "code",
   "execution_count": null,
   "metadata": {},
   "outputs": [],
   "source": [
    "# doesnt work with basic plan\n",
    "# Search for tweets containing a specific keyword\n",
    "tweets = api.search_tweets(q='#threads', count=100)\n",
    "\n",
    "# Print the text of each tweet\n",
    "for tweet in tweets:\n",
    "    print(tweet.text)"
   ]
  },
  {
   "cell_type": "code",
   "execution_count": null,
   "metadata": {},
   "outputs": [],
   "source": [
    "# doesnt work with basic plan\n",
    "tweets = api.user_timeline(screen_name='@elonmusk', \n",
    "                            # 200 is the maximum allowed count\n",
    "                            count=200,\n",
    "                            include_rts = False,\n",
    "                            # Necessary to keep full_text \n",
    "                            # otherwise only the first 140 words are extracted\n",
    "                            tweet_mode = 'extended'\n",
    "                            )"
   ]
  },
  {
   "cell_type": "code",
   "execution_count": null,
   "metadata": {},
   "outputs": [],
   "source": [
    "# doesnt work with basic plan\n",
    "api.get_place_trends(id=23424775, exclude=\"hashtags\")"
   ]
  }
 ],
 "metadata": {
  "kernelspec": {
   "display_name": "Python 3",
   "language": "python",
   "name": "python3"
  },
  "language_info": {
   "codemirror_mode": {
    "name": "ipython",
    "version": 3
   },
   "file_extension": ".py",
   "mimetype": "text/x-python",
   "name": "python",
   "nbconvert_exporter": "python",
   "pygments_lexer": "ipython3",
   "version": "3.8.0"
  },
  "orig_nbformat": 4
 },
 "nbformat": 4,
 "nbformat_minor": 2
}
